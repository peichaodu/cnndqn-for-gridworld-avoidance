{
  "nbformat": 4,
  "nbformat_minor": 0,
  "metadata": {
    "colab": {
      "name": "Independent Study Double DQN",
      "provenance": [],
      "collapsed_sections": []
    },
    "kernelspec": {
      "name": "python3",
      "display_name": "Python 3"
    }
  },
  "cells": [
    {
      "cell_type": "markdown",
      "metadata": {
        "id": "_tifzj5Ja2pu",
        "colab_type": "text"
      },
      "source": [
        "#**DQN autonomous ship path planning**#"
      ]
    },
    {
      "cell_type": "code",
      "metadata": {
        "id": "fexKv7Xed3m5",
        "colab_type": "code",
        "colab": {}
      },
      "source": [
        ""
      ],
      "execution_count": 0,
      "outputs": []
    },
    {
      "cell_type": "markdown",
      "metadata": {
        "id": "2zfi4dZYdtEr",
        "colab_type": "text"
      },
      "source": [
        "#**My own gridworld environment**#"
      ]
    },
    {
      "cell_type": "markdown",
      "metadata": {
        "id": "EfHuZ5sxd6U9",
        "colab_type": "text"
      },
      "source": [
        "#**Generate valid data**#"
      ]
    },
    {
      "cell_type": "markdown",
      "metadata": {
        "id": "qYp0MoWvJush",
        "colab_type": "text"
      },
      "source": [
        "#**Env Setup(gym)**#"
      ]
    },
    {
      "cell_type": "code",
      "metadata": {
        "id": "U3vseECuomsn",
        "colab_type": "code",
        "outputId": "119ceea6-c5d3-4c1b-9ece-02f1c36c7b9b",
        "colab": {
          "base_uri": "https://localhost:8080/",
          "height": 190
        }
      },
      "source": [
        "!pip install gym-minigrid"
      ],
      "execution_count": 0,
      "outputs": [
        {
          "output_type": "stream",
          "text": [
            "Requirement already satisfied: gym-minigrid in /usr/local/lib/python3.6/dist-packages (1.0.0)\n",
            "Requirement already satisfied: numpy>=1.15.0 in /usr/local/lib/python3.6/dist-packages (from gym-minigrid) (1.17.4)\n",
            "Requirement already satisfied: gym>=0.9.6 in /usr/local/lib/python3.6/dist-packages (from gym-minigrid) (0.15.4)\n",
            "Requirement already satisfied: pyglet<=1.3.2,>=1.2.0 in /usr/local/lib/python3.6/dist-packages (from gym>=0.9.6->gym-minigrid) (1.3.2)\n",
            "Requirement already satisfied: six in /usr/local/lib/python3.6/dist-packages (from gym>=0.9.6->gym-minigrid) (1.12.0)\n",
            "Requirement already satisfied: cloudpickle~=1.2.0 in /usr/local/lib/python3.6/dist-packages (from gym>=0.9.6->gym-minigrid) (1.2.2)\n",
            "Requirement already satisfied: scipy in /usr/local/lib/python3.6/dist-packages (from gym>=0.9.6->gym-minigrid) (1.3.3)\n",
            "Requirement already satisfied: opencv-python in /usr/local/lib/python3.6/dist-packages (from gym>=0.9.6->gym-minigrid) (4.1.2.30)\n",
            "Requirement already satisfied: future in /usr/local/lib/python3.6/dist-packages (from pyglet<=1.3.2,>=1.2.0->gym>=0.9.6->gym-minigrid) (0.16.0)\n"
          ],
          "name": "stdout"
        }
      ]
    },
    {
      "cell_type": "code",
      "metadata": {
        "id": "N8p3arD8J3Hh",
        "colab_type": "code",
        "colab": {}
      },
      "source": [
        "import math, random\n",
        "\n",
        "import gym\n",
        "import numpy as np\n",
        "\n",
        "import torch\n",
        "import torch.nn as nn\n",
        "import torch.optim as optim\n",
        "import torch.autograd as autograd \n",
        "import torch.nn.functional as F"
      ],
      "execution_count": 0,
      "outputs": []
    },
    {
      "cell_type": "code",
      "metadata": {
        "id": "33bKKNDOKBq4",
        "colab_type": "code",
        "colab": {}
      },
      "source": [
        "from IPython.display import clear_output\n",
        "import matplotlib.pyplot as plt\n",
        "import gym_minigrid\n",
        "from gym.spaces import Tuple, Box, Discrete, MultiDiscrete, MultiBinary, Dict\n"
      ],
      "execution_count": 0,
      "outputs": []
    },
    {
      "cell_type": "markdown",
      "metadata": {
        "id": "ejnrjuALX04c",
        "colab_type": "text"
      },
      "source": [
        "#**Use Cuda**#"
      ]
    },
    {
      "cell_type": "code",
      "metadata": {
        "id": "5WxssOc5X9W9",
        "colab_type": "code",
        "colab": {}
      },
      "source": [
        "USE_CUDA = torch.cuda.is_available()\n",
        "Variable = lambda *args, **kwargs: autograd.Variable(*args, **kwargs).cuda() if USE_CUDA else autograd.Variable(*args, **kwargs)"
      ],
      "execution_count": 0,
      "outputs": []
    },
    {
      "cell_type": "markdown",
      "metadata": {
        "id": "Ru6PHGmbZR-_",
        "colab_type": "text"
      },
      "source": [
        "I am trying to use a package from gym, which perfectly satisfies my needs. However, if that's not easy to use, I would prefer to used my own environment, after acknowledging everything that I need to provide."
      ]
    },
    {
      "cell_type": "code",
      "metadata": {
        "id": "2J4FwLw-KIe6",
        "colab_type": "code",
        "colab": {}
      },
      "source": [
        "env_id =\"MiniGrid-Dynamic-Obstacles-6x6-v0\"\n",
        "env = gym.make(env_id)\n",
        "\n",
        "# number of input channel, I am trying to parse that myself since the third party package has no env.observation_space.shape attributes,\n",
        "# which is used in the code provided by github\n",
        "channel_value = env.observation_space.spaces\n",
        "input_shape, num_actions = env.observation_space.spaces['image'].shape, env.action_space.n\n",
        "input_shape=(input_shape[2],input_shape[0],input_shape[1])\n",
        "\n",
        "#model = CnnDQN(input_shape,num_actions)\n",
        "\n",
        "current_model = CnnDQN(input_shape,num_actions)\n",
        "target_model  = CnnDQN(input_shape,num_actions)\n"
      ],
      "execution_count": 0,
      "outputs": []
    },
    {
      "cell_type": "code",
      "metadata": {
        "id": "Up8J3SMFq5g7",
        "colab_type": "code",
        "colab": {}
      },
      "source": [
        "\n"
      ],
      "execution_count": 0,
      "outputs": []
    },
    {
      "cell_type": "markdown",
      "metadata": {
        "id": "7RRaYW7ZtHbW",
        "colab_type": "text"
      },
      "source": [
        "#**CNNDQN**#"
      ]
    },
    {
      "cell_type": "code",
      "metadata": {
        "id": "BWLH4yD1q6xO",
        "colab_type": "code",
        "colab": {}
      },
      "source": [
        "class CnnDQN(nn.Module):\n",
        "    def __init__(self, input_shape, num_actions):\n",
        "\n",
        "        super(CnnDQN, self).__init__()\n",
        "        \n",
        "        self.input_shape = input_shape\n",
        "        #print(input_shape)\n",
        "        self.num_actions = num_actions\n",
        "        #originially we have box(3,n,n) representing the RGB graph, so the #channel=input_shape[0]=3\n",
        "        self.features = nn.Sequential(\n",
        "            nn.Conv2d(input_shape[0], 8, kernel_size=2, stride=1),\n",
        "            nn.ReLU(),\n",
        "            nn.Conv2d(8, 16, kernel_size=2, stride=1),\n",
        "            nn.ReLU(),\n",
        "        )\n",
        "        #print(self.feature_size())\n",
        "        self.fc = nn.Sequential(\n",
        "            nn.Linear(self.feature_size(), 64),\n",
        "            nn.ReLU(),\n",
        "            nn.Linear(64, self.num_actions)\n",
        "        )\n",
        "        \n",
        "    def forward(self, x):\n",
        "        x = self.features(x)\n",
        "        x = x.view(x.size(0), -1)\n",
        "        x = self.fc(x)\n",
        "        return x\n",
        "    \n",
        "    def feature_size(self):\n",
        "        return self.features(autograd.Variable(torch.zeros(1, *self.input_shape))).view(1, -1).size(1)\n",
        "    \n",
        "    def act(self, state, epsilon):\n",
        "        if random.random() > epsilon:\n",
        "            state   = (torch.FloatTensor(np.float32(state)).unsqueeze(0))\n",
        "            with torch.no_grad():\n",
        "              q_value = self.forward(state)\n",
        "            action  = q_value.max(1)[1].data[0]\n",
        "        else:\n",
        "            action = random.randrange(env.action_space.n)\n",
        "        return action"
      ],
      "execution_count": 0,
      "outputs": []
    },
    {
      "cell_type": "markdown",
      "metadata": {
        "id": "t6NDVnl7dtbV",
        "colab_type": "text"
      },
      "source": [
        "Replay Buffer"
      ]
    },
    {
      "cell_type": "code",
      "metadata": {
        "id": "z0OioG3xdwGF",
        "colab_type": "code",
        "colab": {}
      },
      "source": [
        "from collections import deque\n",
        "\n",
        "class ReplayBuffer(object):\n",
        "    def __init__(self, capacity):\n",
        "        self.buffer = deque(maxlen=capacity)\n",
        "    \n",
        "    def push(self, state, action, reward, next_state, done):\n",
        "        state      = np.expand_dims(state, 0)\n",
        "        next_state = np.expand_dims(next_state, 0)\n",
        "            \n",
        "        self.buffer.append((state, action, reward, next_state, done))\n",
        "    \n",
        "    def sample(self, batch_size):\n",
        "        state, action, reward, next_state, done = zip(*random.sample(self.buffer, batch_size))\n",
        "        #test\n",
        "        \"\"\"\n",
        "        res_1 = None\n",
        "        try:\n",
        "          res_1 = np.concatenate(state)\n",
        "        except:\n",
        "          print(state)\n",
        "          return False\n",
        "        \"\"\"\n",
        "        return np.concatenate(state), action, reward, np.concatenate(next_state), done\n",
        "    \n",
        "    def __len__(self):\n",
        "        return len(self.buffer)"
      ],
      "execution_count": 0,
      "outputs": []
    },
    {
      "cell_type": "markdown",
      "metadata": {
        "id": "Vpu9Lmi4d2xs",
        "colab_type": "text"
      },
      "source": [
        "Compute Temporal Difference Loss"
      ]
    },
    {
      "cell_type": "code",
      "metadata": {
        "id": "Z_-fFskXd66x",
        "colab_type": "code",
        "colab": {}
      },
      "source": [
        "def compute_td_loss(batch_size):\n",
        "    state, action, reward, next_state, done = replay_buffer.sample(batch_size)\n",
        "\n",
        "    state      = Variable(torch.FloatTensor(np.float32(state)))\n",
        "    next_state = Variable(torch.FloatTensor(np.float32(next_state)))\n",
        "    action     = Variable(torch.LongTensor(action))\n",
        "    reward     = Variable(torch.FloatTensor(reward))\n",
        "    done       = Variable(torch.FloatTensor(done))\n",
        "\n",
        "    q_values      = current_model(state)\n",
        "    next_q_values = current_model(next_state)\n",
        "    next_q_state_values = target_model(next_state) \n",
        "\n",
        "    q_value       = q_values.gather(1, action.unsqueeze(1)).squeeze(1) \n",
        "    next_q_value = next_q_state_values.gather(1, torch.max(next_q_values, 1)[1].unsqueeze(1)).squeeze(1)\n",
        "    expected_q_value = reward + gamma * next_q_value * (1 - done)\n",
        "    \n",
        "    loss = (q_value - Variable(expected_q_value.data)).pow(2).mean()\n",
        "        \n",
        "    optimizer.zero_grad()\n",
        "    loss.backward()\n",
        "    optimizer.step()\n",
        "    \n",
        "    return loss"
      ],
      "execution_count": 0,
      "outputs": []
    },
    {
      "cell_type": "markdown",
      "metadata": {
        "id": "D0PFbe7qd8Cs",
        "colab_type": "text"
      },
      "source": [
        "Plot"
      ]
    },
    {
      "cell_type": "code",
      "metadata": {
        "id": "Ipfr205Kd89i",
        "colab_type": "code",
        "colab": {}
      },
      "source": [
        "def plot(frame_idx, rewards, losses):\n",
        "    clear_output(True)\n",
        "    plt.figure(figsize=(20,5))\n",
        "    plt.subplot(131)\n",
        "    plt.title('frame %s. reward: %s' % (frame_idx, np.mean(rewards[-10:])))\n",
        "    plt.plot(rewards)\n",
        "    plt.subplot(132)\n",
        "    plt.title('loss')\n",
        "    plt.plot(losses)\n",
        "    plt.show()"
      ],
      "execution_count": 0,
      "outputs": []
    },
    {
      "cell_type": "markdown",
      "metadata": {
        "id": "Ncf6HD_uelq0",
        "colab_type": "text"
      },
      "source": [
        "Define Optimizer and Replay Buffer"
      ]
    },
    {
      "cell_type": "code",
      "metadata": {
        "id": "Nu8dfuO1emw-",
        "colab_type": "code",
        "colab": {}
      },
      "source": [
        " \n",
        "if USE_CUDA:\n",
        "    current_model = current_model.cuda()\n",
        "    target_model  = target_model.cuda()\n",
        "    \n",
        "optimizer = optim.Adam(current_model.parameters(), lr=0.0001)\n",
        "\n",
        "replay_initial = 10000\n",
        "replay_buffer = ReplayBuffer(100000)\n",
        "\n",
        "update_target(current_model, target_model)"
      ],
      "execution_count": 0,
      "outputs": []
    },
    {
      "cell_type": "markdown",
      "metadata": {
        "id": "Dz43huYJeRBJ",
        "colab_type": "text"
      },
      "source": [
        "Define epsilon"
      ]
    },
    {
      "cell_type": "code",
      "metadata": {
        "id": "LeFGBaEveRQz",
        "colab_type": "code",
        "colab": {}
      },
      "source": [
        "epsilon_start = 1.0\n",
        "epsilon_final = 0.01\n",
        "epsilon_decay = 30000\n",
        "\n",
        "epsilon_by_frame = lambda frame_idx: epsilon_final + (epsilon_start - epsilon_final) * math.exp(-1. * frame_idx / epsilon_decay)"
      ],
      "execution_count": 0,
      "outputs": []
    },
    {
      "cell_type": "markdown",
      "metadata": {
        "id": "eg81-epRsVtx",
        "colab_type": "text"
      },
      "source": [
        "Reshape the State, the state is (7,7,3), while we need it to be (3(channels),7(w),7(h)), otherwise there will be problem within training process."
      ]
    },
    {
      "cell_type": "code",
      "metadata": {
        "id": "1MN1uvTlsqLs",
        "colab_type": "code",
        "colab": {}
      },
      "source": [
        "def reshape(width,height,state,color=3):\n",
        "  #state used to be(w,h,c), reshape it to be(c,w,h)\n",
        "  new_state = []\n",
        "  for c in range(color):\n",
        "    new_state_c = []\n",
        "    for w in range(width):\n",
        "      new_state_w = []\n",
        "      for h in range(height):\n",
        "        new_state_w.append(state[w][h][c])\n",
        "      new_state_c.append(new_state_w)\n",
        "    new_state.append(new_state_c)\n",
        "  return new_state\n",
        "\n",
        "def update_target(current_model, target_model):\n",
        "    target_model.load_state_dict(current_model.state_dict())"
      ],
      "execution_count": 0,
      "outputs": []
    },
    {
      "cell_type": "markdown",
      "metadata": {
        "id": "UQrcrMr1d_yr",
        "colab_type": "text"
      },
      "source": [
        "Training by CnnDQN\\\n",
        "need to revise the shape of state"
      ]
    },
    {
      "cell_type": "code",
      "metadata": {
        "id": "SifFJPEZeGEG",
        "colab_type": "code",
        "outputId": "ee8d8442-c379-4454-b094-585e1be84b51",
        "colab": {
          "base_uri": "https://localhost:8080/",
          "height": 336
        }
      },
      "source": [
        "num_frames = 1400000\n",
        "batch_size = 32\n",
        "gamma      = 0.99\n",
        "\n",
        "losses = []\n",
        "all_rewards = []\n",
        "episode_reward = 0\n",
        "\n",
        "state = env.reset()['image']\n",
        "state = reshape(7,7,state)\n",
        "for frame_idx in range(1, num_frames + 1):\n",
        "\n",
        "    epsilon = epsilon_by_frame(frame_idx)\n",
        "    action = current_model.act(state, epsilon)\n",
        "\n",
        "    \n",
        "    next_state, reward, done, _ = env.step(action)\n",
        "\n",
        "    #parse the state\n",
        "    next_state = next_state['image']\n",
        "    next_state = reshape(7,7,next_state)\n",
        "\n",
        "    replay_buffer.push(state, action, reward, next_state, done)\n",
        "    \n",
        "    state = next_state\n",
        "    episode_reward += reward\n",
        "    if done:\n",
        "        state = env.reset()['image']\n",
        "        state = reshape(7,7,state)\n",
        "        all_rewards.append(episode_reward)\n",
        "        episode_reward = 0\n",
        "        \n",
        "    if len(replay_buffer) > replay_initial:\n",
        "        loss = compute_td_loss(batch_size)\n",
        "        losses.append(loss.data.item())\n",
        "        \n",
        "    if frame_idx % 10000 == 0:\n",
        "        print(frame_idx)\n",
        "        plot(frame_idx, all_rewards, losses)\n",
        "\n",
        "    if frame_idx % 100 == 0:\n",
        "        update_target(current_model, target_model)\n",
        "\n",
        "# That algorithm is more robust as the reward become stable as if the #of frame is over 340000"
      ],
      "execution_count": 0,
      "outputs": [
        {
          "output_type": "display_data",
          "data": {
            "image/png": "[encoded data removed]",
            "text/plain": [
              "<Figure size 1440x360 with 2 Axes>"
            ]
          },
          "metadata": {
            "tags": []
          }
        }
      ]
    },
    {
      "cell_type": "markdown",
      "metadata": {
        "id": "tBO_pRWk-OoD",
        "colab_type": "text"
      },
      "source": [
        "## 8*8"
      ]
    },
    {
      "cell_type": "code",
      "metadata": {
        "id": "kQKsKG8k-N_s",
        "colab_type": "code",
        "outputId": "e0362d74-474f-4ea3-8a47-0885a687aa11",
        "colab": {
          "base_uri": "https://localhost:8080/"
        }
      },
      "source": [
        "env_id_8 =\"MiniGrid-Dynamic-Obstacles-8x8-v0\"\n",
        "env = gym.make(env_id_8)\n",
        "\n",
        "# number of input channel, I am trying to parse that myself since the third party package has no env.observation_space.shape attributes,\n",
        "# which is used in the code provided by github\n",
        "channel_value = env_8.observation_space.spaces\n",
        "\n",
        "input_shape, num_actions = env_8.observation_space.spaces['image'].shape, env_8.action_space.n\n",
        "input_shape=(input_shape[2],input_shape[0],input_shape[1])\n",
        "\n",
        "current_model = CnnDQN(input_shape,num_actions)\n",
        "target_model  = CnnDQN(input_shape,num_actions)\n",
        "\n",
        "if USE_CUDA:\n",
        "    current_model = current_model.cuda()\n",
        "    target_model  = target_model.cuda()\n",
        "    \n",
        "optimizer = optim.Adam(current_model.parameters(), lr=0.0001)\n",
        "\n",
        "replay_initial = 10000\n",
        "replay_buffer = ReplayBuffer(100000)\n",
        "\n",
        "\n",
        "num_frames = 1400000\n",
        "batch_size = 32\n",
        "gamma      = 0.99\n",
        "\n",
        "losses = []\n",
        "all_rewards = []\n",
        "episode_reward = 0\n",
        "\n",
        "state = env.reset()['image']\n",
        "state = reshape(7,7,state)\n",
        "for frame_idx in range(1, num_frames + 1):\n",
        "\n",
        "    epsilon = epsilon_by_frame(frame_idx)\n",
        "    action = current_model.act(state, epsilon)\n",
        "\n",
        "    \n",
        "    next_state, reward, done, _ = env.step(action)\n",
        "\n",
        "    #parse the state\n",
        "    next_state = next_state['image']\n",
        "    next_state = reshape(7,7,next_state)\n",
        "\n",
        "    replay_buffer.push(state, action, reward, next_state, done)\n",
        "    \n",
        "    state = next_state\n",
        "    episode_reward += reward\n",
        "    if done:\n",
        "        state = env.reset()['image']\n",
        "        state = reshape(7,7,state)\n",
        "        all_rewards.append(episode_reward)\n",
        "        episode_reward = 0\n",
        "        \n",
        "    if len(replay_buffer) > replay_initial:\n",
        "        loss = compute_td_loss(batch_size)\n",
        "        losses.append(loss.data.item())\n",
        "        \n",
        "    if frame_idx % 10000 == 0:\n",
        "        print(frame_idx)\n",
        "        plot(frame_idx, all_rewards, losses)\n",
        "\n",
        "    if frame_idx % 100 == 0:\n",
        "        update_target(current_model, target_model)"
      ],
      "execution_count": 0,
      "outputs": [
        {
          "output_type": "display_data",
          "data": {
            "image/png": "[encoded data removed]",
            "text/plain": [
              "<Figure size 1440x360 with 2 Axes>"
            ]
          },
          "metadata": {
            "tags": []
          }
        }
      ]
    }
  ]
}