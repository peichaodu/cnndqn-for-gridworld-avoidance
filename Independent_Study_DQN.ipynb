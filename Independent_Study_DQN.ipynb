{
  "nbformat": 4,
  "nbformat_minor": 0,
  "metadata": {
    "colab": {
      "name": "Independent Study DQN",
      "provenance": [],
      "collapsed_sections": []
    },
    "kernelspec": {
      "name": "python3",
      "display_name": "Python 3"
    }
  },
  "cells": [
    {
      "cell_type": "markdown",
      "metadata": {
        "id": "_tifzj5Ja2pu",
        "colab_type": "text"
      },
      "source": [
        "#**DQN autonomous ship path planning**#"
      ]
    },
    {
      "cell_type": "code",
      "metadata": {
        "id": "fexKv7Xed3m5",
        "colab_type": "code",
        "colab": {}
      },
      "source": [
        ""
      ],
      "execution_count": 0,
      "outputs": []
    },
    {
      "cell_type": "markdown",
      "metadata": {
        "id": "2zfi4dZYdtEr",
        "colab_type": "text"
      },
      "source": [
        "#**My own gridworld environment**#"
      ]
    },
    {
      "cell_type": "code",
      "metadata": {
        "id": "DR84sIs-d5I8",
        "colab_type": "code",
        "outputId": "853b192c-0ad3-49ee-f7eb-538b2cfc93cf",
        "colab": {
          "base_uri": "https://localhost:8080/",
          "height": 54
        }
      },
      "source": [
        "\"\"\"\n",
        "class Gridworld:\n",
        "    states = None\n",
        "    initial_state = None\n",
        "    goal_state = None\n",
        "    moving = None\n",
        "\n",
        "    def __init__(self, filename):\n",
        "        self.moving = False\n",
        "        with open(filename) as file:\n",
        "            self.states = [list(line) for line in file.read().splitlines()]\n",
        "            for y, line in enumerate(self.states):\n",
        "                for x, value in enumerate(line):\n",
        "                    if value.isnumeric():\n",
        "                        line[x] = int(value)\n",
        "                    if value == 's':\n",
        "                        self.initial_state = (x, y)\n",
        "                    if value == 'g':\n",
        "                        self.goal_state = (x, y)\n",
        "\n",
        "    def successors(self, state):\n",
        "        # TODO\n",
        "        l = []\n",
        "        x = state[0]\n",
        "        y = state[1]\n",
        "        if(x-1>=0 and self.states[y][x-1]!='#'):\n",
        "            l.append((x-1,y))\n",
        "        if(y-1>=0 and self.states[y-1][x]!='#'):\n",
        "            l.append((x,y-1))\n",
        "        if(x+1<len(self.states[0]) and self.states[y][x+1]!='#'):\n",
        "            l.append((x+1,y))\n",
        "        if(y+1<len(self.states) and self.states[y+1][x]!='#'):\n",
        "           l.append((x,y+1))\n",
        "        return l\n",
        "\n",
        "    def cost(self, state):\n",
        "        if(state==self.goal_state or state== self.initial_state):\n",
        "            return 1\n",
        "        return self.states[state[1]][state[0]]\n",
        "\n",
        "    def set_move(self,move):\n",
        "        self.moving=move\n",
        "\"\"\""
      ],
      "execution_count": 0,
      "outputs": [
        {
          "output_type": "execute_result",
          "data": {
            "text/plain": [
              "\"\\nclass Gridworld:\\n    states = None\\n    initial_state = None\\n    goal_state = None\\n    moving = None\\n\\n    def __init__(self, filename):\\n        self.moving = False\\n        with open(filename) as file:\\n            self.states = [list(line) for line in file.read().splitlines()]\\n            for y, line in enumerate(self.states):\\n                for x, value in enumerate(line):\\n                    if value.isnumeric():\\n                        line[x] = int(value)\\n                    if value == 's':\\n                        self.initial_state = (x, y)\\n                    if value == 'g':\\n                        self.goal_state = (x, y)\\n\\n    def successors(self, state):\\n        # TODO\\n        l = []\\n        x = state[0]\\n        y = state[1]\\n        if(x-1>=0 and self.states[y][x-1]!='#'):\\n            l.append((x-1,y))\\n        if(y-1>=0 and self.states[y-1][x]!='#'):\\n            l.append((x,y-1))\\n        if(x+1<len(self.states[0]) and self.states[y][x+1]!='#'):\\n            l.append((x+1,y))\\n        if(y+1<len(self.states) and self.states[y+1][x]!='#'):\\n           l.append((x,y+1))\\n        return l\\n\\n    def cost(self, state):\\n        if(state==self.goal_state or state== self.initial_state):\\n            return 1\\n        return self.states[state[1]][state[0]]\\n\\n    def set_move(self,move):\\n        self.moving=move\\n\""
            ]
          },
          "metadata": {
            "tags": []
          },
          "execution_count": 2
        }
      ]
    },
    {
      "cell_type": "markdown",
      "metadata": {
        "id": "EfHuZ5sxd6U9",
        "colab_type": "text"
      },
      "source": [
        "#**Generate valid data**#"
      ]
    },
    {
      "cell_type": "code",
      "metadata": {
        "id": "7_NcZtlteEwX",
        "colab_type": "code",
        "outputId": "97ed9217-2676-49d6-89ef-7d79627ab338",
        "colab": {
          "base_uri": "https://localhost:8080/",
          "height": 54
        }
      },
      "source": [
        "\"\"\"\n",
        "import argparse\n",
        "from assignment1.agents import AStar, BFS, RandomSearch, GBFS, UCS\n",
        "from assignment1.gridworld import Gridworld\n",
        "import random\n",
        "import os\n",
        "\n",
        "agents = {\n",
        "    \"astar\": AStar,\n",
        "    \"bfs\": BFS,\n",
        "    \"gbfs\": GBFS,\n",
        "    \"ucs\": UCS,\n",
        "    \"random\": RandomSearch\n",
        "}\n",
        "\n",
        "def run():\n",
        "    # Parse command line arguments.\n",
        "    parser = argparse.ArgumentParser(\n",
        "        description='Run the given agent algorithm on the given gridworld.')\n",
        "    parser.add_argument(\n",
        "        'agent', help='The agent, one of: [astar, bfs, random]')\n",
        "    args = parser.parse_args()\n",
        "\n",
        "    # Create the agent and gridworld,\n",
        "    # and run the search.\n",
        "    agent = agents[args.agent]()\n",
        "    def create_world(p,rate):\n",
        "        gworld = []\n",
        "        for i in range(p):\n",
        "            row = []\n",
        "            for j in range(p):\n",
        "                if i == 0 and j == 0:\n",
        "                    row.append('s')\n",
        "                elif i==p-1 and j==p-1:\n",
        "                    row.append('g')\n",
        "                else:\n",
        "                    rand = random.random()\n",
        "                    if rand<rate:\n",
        "                        row.append('#')\n",
        "                    else:\n",
        "                        row.append('1')\n",
        "            gworld.append(\"\".join(row))\n",
        "        return gworld\n",
        "\n",
        "    # Print the results.\n",
        "    for p in range(100):\n",
        "        solution=[]\n",
        "        while len(solution)<=1:\n",
        "            gw = create_world(10,0.2)\n",
        "            print(gw)\n",
        "            filepath=\"gw/\"+str(p)+\".txt\"\n",
        "            file = open(filepath,'w')\n",
        "            for i in range(len(gw)): \n",
        "                file.write(gw[i]+os.linesep)\n",
        "            file.close()\n",
        "            gridworld = Gridworld(filepath)\n",
        "            solution, cost, nodes_expanded = agent.search(gridworld)\n",
        "\n",
        "\n",
        "    print('solution', solution)\n",
        "    print('cost', cost)\n",
        "    print('nodes_expanded', nodes_expanded)\n",
        "\n",
        "\n",
        "if __name__ == '__main__':\n",
        "    run()\n",
        "\"\"\""
      ],
      "execution_count": 0,
      "outputs": [
        {
          "output_type": "execute_result",
          "data": {
            "text/plain": [
              "'\\nimport argparse\\nfrom assignment1.agents import AStar, BFS, RandomSearch, GBFS, UCS\\nfrom assignment1.gridworld import Gridworld\\nimport random\\nimport os\\n\\nagents = {\\n    \"astar\": AStar,\\n    \"bfs\": BFS,\\n    \"gbfs\": GBFS,\\n    \"ucs\": UCS,\\n    \"random\": RandomSearch\\n}\\n\\ndef run():\\n    # Parse command line arguments.\\n    parser = argparse.ArgumentParser(\\n        description=\\'Run the given agent algorithm on the given gridworld.\\')\\n    parser.add_argument(\\n        \\'agent\\', help=\\'The agent, one of: [astar, bfs, random]\\')\\n    args = parser.parse_args()\\n\\n    # Create the agent and gridworld,\\n    # and run the search.\\n    agent = agents[args.agent]()\\n    def create_world(p,rate):\\n        gworld = []\\n        for i in range(p):\\n            row = []\\n            for j in range(p):\\n                if i == 0 and j == 0:\\n                    row.append(\\'s\\')\\n                elif i==p-1 and j==p-1:\\n                    row.append(\\'g\\')\\n                else:\\n                    rand = random.random()\\n                    if rand<rate:\\n                        row.append(\\'#\\')\\n                    else:\\n                        row.append(\\'1\\')\\n            gworld.append(\"\".join(row))\\n        return gworld\\n\\n    # Print the results.\\n    for p in range(100):\\n        solution=[]\\n        while len(solution)<=1:\\n            gw = create_world(10,0.2)\\n            print(gw)\\n            filepath=\"gw/\"+str(p)+\".txt\"\\n            file = open(filepath,\\'w\\')\\n            for i in range(len(gw)): \\n                file.write(gw[i]+os.linesep)\\n            file.close()\\n            gridworld = Gridworld(filepath)\\n            solution, cost, nodes_expanded = agent.search(gridworld)\\n\\n\\n    print(\\'solution\\', solution)\\n    print(\\'cost\\', cost)\\n    print(\\'nodes_expanded\\', nodes_expanded)\\n\\n\\nif __name__ == \\'__main__\\':\\n    run()\\n'"
            ]
          },
          "metadata": {
            "tags": []
          },
          "execution_count": 3
        }
      ]
    },
    {
      "cell_type": "markdown",
      "metadata": {
        "id": "qYp0MoWvJush",
        "colab_type": "text"
      },
      "source": [
        "#**Env Setup(gym)**#"
      ]
    },
    {
      "cell_type": "code",
      "metadata": {
        "id": "U3vseECuomsn",
        "colab_type": "code",
        "outputId": "9ae25f80-e1b0-4cba-f490-ad603cc2d615",
        "colab": {
          "base_uri": "https://localhost:8080/",
          "height": 258
        }
      },
      "source": [
        "!pip install gym-minigrid"
      ],
      "execution_count": 0,
      "outputs": [
        {
          "output_type": "stream",
          "text": [
            "Collecting gym-minigrid\n",
            "\u001b[?25l  Downloading https://files.pythonhosted.org/packages/3b/85/58693d093beeaf856909709a65b8fbee0df0417de13759ea0f7a13da276e/gym_minigrid-1.0.0-py3-none-any.whl (43kB)\n",
            "\r\u001b[K     |███████▌                        | 10kB 19.9MB/s eta 0:00:01\r\u001b[K     |███████████████                 | 20kB 3.1MB/s eta 0:00:01\r\u001b[K     |██████████████████████▍         | 30kB 4.5MB/s eta 0:00:01\r\u001b[K     |█████████████████████████████▉  | 40kB 2.9MB/s eta 0:00:01\r\u001b[K     |████████████████████████████████| 51kB 2.5MB/s \n",
            "\u001b[?25hRequirement already satisfied: gym>=0.9.6 in /usr/local/lib/python3.6/dist-packages (from gym-minigrid) (0.15.4)\n",
            "Requirement already satisfied: numpy>=1.15.0 in /usr/local/lib/python3.6/dist-packages (from gym-minigrid) (1.17.4)\n",
            "Requirement already satisfied: six in /usr/local/lib/python3.6/dist-packages (from gym>=0.9.6->gym-minigrid) (1.12.0)\n",
            "Requirement already satisfied: pyglet<=1.3.2,>=1.2.0 in /usr/local/lib/python3.6/dist-packages (from gym>=0.9.6->gym-minigrid) (1.3.2)\n",
            "Requirement already satisfied: cloudpickle~=1.2.0 in /usr/local/lib/python3.6/dist-packages (from gym>=0.9.6->gym-minigrid) (1.2.2)\n",
            "Requirement already satisfied: opencv-python in /usr/local/lib/python3.6/dist-packages (from gym>=0.9.6->gym-minigrid) (4.1.2.30)\n",
            "Requirement already satisfied: scipy in /usr/local/lib/python3.6/dist-packages (from gym>=0.9.6->gym-minigrid) (1.3.3)\n",
            "Requirement already satisfied: future in /usr/local/lib/python3.6/dist-packages (from pyglet<=1.3.2,>=1.2.0->gym>=0.9.6->gym-minigrid) (0.16.0)\n",
            "Installing collected packages: gym-minigrid\n",
            "Successfully installed gym-minigrid-1.0.0\n"
          ],
          "name": "stdout"
        }
      ]
    },
    {
      "cell_type": "code",
      "metadata": {
        "id": "N8p3arD8J3Hh",
        "colab_type": "code",
        "colab": {}
      },
      "source": [
        "import math, random\n",
        "\n",
        "import gym\n",
        "import numpy as np\n",
        "\n",
        "import torch\n",
        "import torch.nn as nn\n",
        "import torch.optim as optim\n",
        "import torch.autograd as autograd \n",
        "import torch.nn.functional as F"
      ],
      "execution_count": 0,
      "outputs": []
    },
    {
      "cell_type": "code",
      "metadata": {
        "id": "33bKKNDOKBq4",
        "colab_type": "code",
        "colab": {}
      },
      "source": [
        "from IPython.display import clear_output\n",
        "import matplotlib.pyplot as plt\n",
        "import gym_minigrid\n",
        "from gym.spaces import Tuple, Box, Discrete, MultiDiscrete, MultiBinary, Dict\n"
      ],
      "execution_count": 0,
      "outputs": []
    },
    {
      "cell_type": "markdown",
      "metadata": {
        "id": "ejnrjuALX04c",
        "colab_type": "text"
      },
      "source": [
        "#**Use Cuda**#"
      ]
    },
    {
      "cell_type": "code",
      "metadata": {
        "id": "5WxssOc5X9W9",
        "colab_type": "code",
        "colab": {}
      },
      "source": [
        "USE_CUDA = torch.cuda.is_available()\n",
        "Variable = lambda *args, **kwargs: autograd.Variable(*args, **kwargs).cuda() if USE_CUDA else autograd.Variable(*args, **kwargs)"
      ],
      "execution_count": 0,
      "outputs": []
    },
    {
      "cell_type": "markdown",
      "metadata": {
        "id": "Ru6PHGmbZR-_",
        "colab_type": "text"
      },
      "source": [
        "I am trying to use a package from gym, which perfectly satisfies my needs. However, if that's not easy to use, I would prefer to used my own environment, after acknowledging everything that I need to provide."
      ]
    },
    {
      "cell_type": "code",
      "metadata": {
        "id": "2J4FwLw-KIe6",
        "colab_type": "code",
        "colab": {}
      },
      "source": [
        "env_id =\"MiniGrid-Dynamic-Obstacles-6x6-v0\"\n",
        "env = gym.make(env_id)\n",
        "\n",
        "# number of input channel, I am trying to parse that myself since the third party package has no env.observation_space.shape attributes,\n",
        "# which is used in the code provided by github\n",
        "channel_value = env.observation_space.spaces\n",
        "input_shape, num_actions = env.observation_space.spaces['image'].shape, env.action_space.n\n",
        "input_shape=(input_shape[2],input_shape[0],input_shape[1])\n",
        "model = CnnDQN(input_shape,num_actions)\n",
        "\n"
      ],
      "execution_count": 0,
      "outputs": []
    },
    {
      "cell_type": "code",
      "metadata": {
        "id": "Up8J3SMFq5g7",
        "colab_type": "code",
        "colab": {}
      },
      "source": [
        "\n"
      ],
      "execution_count": 0,
      "outputs": []
    },
    {
      "cell_type": "markdown",
      "metadata": {
        "id": "7RRaYW7ZtHbW",
        "colab_type": "text"
      },
      "source": [
        "#**CNNDQN**#"
      ]
    },
    {
      "cell_type": "code",
      "metadata": {
        "id": "BWLH4yD1q6xO",
        "colab_type": "code",
        "colab": {}
      },
      "source": [
        "class CnnDQN(nn.Module):\n",
        "    def __init__(self, input_shape, num_actions):\n",
        "\n",
        "        super(CnnDQN, self).__init__()\n",
        "        \n",
        "        self.input_shape = input_shape\n",
        "        #print(input_shape)\n",
        "        self.num_actions = num_actions\n",
        "        #originially we have box(3,n,n) representing the RGB graph, so the #channel=input_shape[0]=3\n",
        "        self.features = nn.Sequential(\n",
        "            nn.Conv2d(input_shape[0], 8, kernel_size=2, stride=1),\n",
        "            nn.ReLU(),\n",
        "            nn.Conv2d(8, 16, kernel_size=2, stride=1),\n",
        "            nn.ReLU(),\n",
        "        )\n",
        "        #print(self.feature_size())\n",
        "        self.fc = nn.Sequential(\n",
        "            nn.Linear(self.feature_size(), 64),\n",
        "            nn.ReLU(),\n",
        "            nn.Linear(64, self.num_actions)\n",
        "        )\n",
        "        \n",
        "    def forward(self, x):\n",
        "        x = self.features(x)\n",
        "        x = x.view(x.size(0), -1)\n",
        "        x = self.fc(x)\n",
        "        return x\n",
        "    \n",
        "    def feature_size(self):\n",
        "        return self.features(autograd.Variable(torch.zeros(1, *self.input_shape))).view(1, -1).size(1)\n",
        "    \n",
        "    def act(self, state, epsilon):\n",
        "        if random.random() > epsilon:\n",
        "            state   = (torch.FloatTensor(np.float32(state)).unsqueeze(0))\n",
        "            with torch.no_grad():\n",
        "              q_value = self.forward(state)\n",
        "            action  = q_value.max(1)[1].data[0]\n",
        "        else:\n",
        "            action = random.randrange(env.action_space.n)\n",
        "        return action"
      ],
      "execution_count": 0,
      "outputs": []
    },
    {
      "cell_type": "markdown",
      "metadata": {
        "id": "t6NDVnl7dtbV",
        "colab_type": "text"
      },
      "source": [
        "Replay Buffer"
      ]
    },
    {
      "cell_type": "code",
      "metadata": {
        "id": "z0OioG3xdwGF",
        "colab_type": "code",
        "colab": {}
      },
      "source": [
        "from collections import deque\n",
        "\n",
        "class ReplayBuffer(object):\n",
        "    def __init__(self, capacity):\n",
        "        self.buffer = deque(maxlen=capacity)\n",
        "    \n",
        "    def push(self, state, action, reward, next_state, done):\n",
        "        state      = np.expand_dims(state, 0)\n",
        "        next_state = np.expand_dims(next_state, 0)\n",
        "            \n",
        "        self.buffer.append((state, action, reward, next_state, done))\n",
        "    \n",
        "    def sample(self, batch_size):\n",
        "        state, action, reward, next_state, done = zip(*random.sample(self.buffer, batch_size))\n",
        "        #test\n",
        "        \"\"\"\n",
        "        res_1 = None\n",
        "        try:\n",
        "          res_1 = np.concatenate(state)\n",
        "        except:\n",
        "          print(state)\n",
        "          return False\n",
        "        \"\"\"\n",
        "        return np.concatenate(state), action, reward, np.concatenate(next_state), done\n",
        "    \n",
        "    def __len__(self):\n",
        "        return len(self.buffer)"
      ],
      "execution_count": 0,
      "outputs": []
    },
    {
      "cell_type": "markdown",
      "metadata": {
        "id": "Vpu9Lmi4d2xs",
        "colab_type": "text"
      },
      "source": [
        "Compute Temporal Difference Loss"
      ]
    },
    {
      "cell_type": "code",
      "metadata": {
        "id": "Z_-fFskXd66x",
        "colab_type": "code",
        "colab": {}
      },
      "source": [
        "def compute_td_loss(batch_size):\n",
        "    state, action, reward, next_state, done = replay_buffer.sample(batch_size)\n",
        "\n",
        "    state      = (torch.FloatTensor(np.float32(state)))\n",
        "    next_state = (torch.FloatTensor(np.float32(next_state)))\n",
        "    action     = (torch.LongTensor(action))\n",
        "    reward     = (torch.FloatTensor(reward))\n",
        "    done       = (torch.FloatTensor(done))\n",
        "\n",
        "    q_values      = model(state)\n",
        "    with torch.no_grad():\n",
        "      next_q_values = model(next_state)\n",
        "\n",
        "    q_value          = q_values.gather(1, action.unsqueeze(1)).squeeze(1)\n",
        "    next_q_value     = next_q_values.max(1)[0]\n",
        "    expected_q_value = reward + gamma * next_q_value * (1 - done)\n",
        "    \n",
        "    loss = (q_value - Variable(expected_q_value.data)).pow(2).mean()\n",
        "        \n",
        "    optimizer.zero_grad()\n",
        "    loss.backward()\n",
        "    optimizer.step()\n",
        "    \n",
        "    return loss"
      ],
      "execution_count": 0,
      "outputs": []
    },
    {
      "cell_type": "markdown",
      "metadata": {
        "id": "D0PFbe7qd8Cs",
        "colab_type": "text"
      },
      "source": [
        "Plot"
      ]
    },
    {
      "cell_type": "code",
      "metadata": {
        "id": "Ipfr205Kd89i",
        "colab_type": "code",
        "colab": {}
      },
      "source": [
        "def plot(frame_idx, rewards, losses):\n",
        "    clear_output(True)\n",
        "    plt.figure(figsize=(20,5))\n",
        "    plt.subplot(131)\n",
        "    plt.title('frame %s. reward: %s' % (frame_idx, np.mean(rewards[-10:])))\n",
        "    plt.plot(rewards)\n",
        "    plt.subplot(132)\n",
        "    plt.title('loss')\n",
        "    plt.plot(losses)\n",
        "    plt.show()"
      ],
      "execution_count": 0,
      "outputs": []
    },
    {
      "cell_type": "markdown",
      "metadata": {
        "id": "Ncf6HD_uelq0",
        "colab_type": "text"
      },
      "source": [
        "Define Optimizer and Replay Buffer"
      ]
    },
    {
      "cell_type": "code",
      "metadata": {
        "id": "Nu8dfuO1emw-",
        "colab_type": "code",
        "colab": {}
      },
      "source": [
        " \n",
        "if USE_CUDA:\n",
        "    model = model.cuda()\n",
        "    \n",
        "optimizer = optim.Adam(model.parameters(), lr=0.00001)\n",
        "\n",
        "replay_initial = 10000\n",
        "replay_buffer = ReplayBuffer(100000)"
      ],
      "execution_count": 0,
      "outputs": []
    },
    {
      "cell_type": "markdown",
      "metadata": {
        "id": "Dz43huYJeRBJ",
        "colab_type": "text"
      },
      "source": [
        "Define epsilon"
      ]
    },
    {
      "cell_type": "code",
      "metadata": {
        "id": "LeFGBaEveRQz",
        "colab_type": "code",
        "colab": {}
      },
      "source": [
        "epsilon_start = 1.0\n",
        "epsilon_final = 0.01\n",
        "epsilon_decay = 30000\n",
        "\n",
        "epsilon_by_frame = lambda frame_idx: epsilon_final + (epsilon_start - epsilon_final) * math.exp(-1. * frame_idx / epsilon_decay)"
      ],
      "execution_count": 0,
      "outputs": []
    },
    {
      "cell_type": "markdown",
      "metadata": {
        "id": "eg81-epRsVtx",
        "colab_type": "text"
      },
      "source": [
        "Reshape the State, the state is (7,7,3), while we need it to be (3(channels),7(w),7(h)), otherwise there will be problem within training process."
      ]
    },
    {
      "cell_type": "code",
      "metadata": {
        "id": "1MN1uvTlsqLs",
        "colab_type": "code",
        "colab": {}
      },
      "source": [
        "def reshape(width,height,state,color=3):\n",
        "  #state used to be(w,h,c), reshape it to be(c,w,h)\n",
        "  new_state = []\n",
        "  for c in range(color):\n",
        "    new_state_c = []\n",
        "    for w in range(width):\n",
        "      new_state_w = []\n",
        "      for h in range(height):\n",
        "        new_state_w.append(state[w][h][c])\n",
        "      new_state_c.append(new_state_w)\n",
        "    new_state.append(new_state_c)\n",
        "  return new_state"
      ],
      "execution_count": 0,
      "outputs": []
    },
    {
      "cell_type": "markdown",
      "metadata": {
        "id": "UQrcrMr1d_yr",
        "colab_type": "text"
      },
      "source": [
        "Training by CnnDQN\\\n",
        "need to revise the shape of state"
      ]
    },
    {
      "cell_type": "code",
      "metadata": {
        "id": "SifFJPEZeGEG",
        "colab_type": "code",
        "outputId": "70a9ad91-9a16-411f-9454-548b145072d4",
        "colab": {
          "base_uri": "https://localhost:8080/",
          "height": 356
        }
      },
      "source": [
        "num_frames = 1400000\n",
        "batch_size = 32\n",
        "gamma      = 0.99\n",
        "\n",
        "losses = []\n",
        "all_rewards = []\n",
        "episode_reward = 0\n",
        "\n",
        "state = env.reset()['image']\n",
        "state = reshape(7,7,state)\n",
        "for frame_idx in range(1, num_frames + 1):\n",
        "\n",
        "    epsilon = epsilon_by_frame(frame_idx)\n",
        "    action = model.act(state, epsilon)\n",
        "\n",
        "    \n",
        "    next_state, reward, done, _ = env.step(action)\n",
        "\n",
        "    #parse the state\n",
        "    next_state = next_state['image']\n",
        "    next_state = reshape(7,7,next_state)\n",
        "\n",
        "    replay_buffer.push(state, action, reward, next_state, done)\n",
        "    \n",
        "    state = next_state\n",
        "    episode_reward += reward\n",
        "    if done:\n",
        "        state = env.reset()['image']\n",
        "        state = reshape(7,7,state)\n",
        "        all_rewards.append(episode_reward)\n",
        "        episode_reward = 0\n",
        "        \n",
        "    if len(replay_buffer) > replay_initial:\n",
        "        loss = compute_td_loss(batch_size)\n",
        "        losses.append(loss.data.item())\n",
        "        \n",
        "    if frame_idx % 10000 == 0:\n",
        "        print(frame_idx)\n",
        "        plot(frame_idx, all_rewards, losses)\n",
        "\n",
        "        #320000 is a good point though"
      ],
      "execution_count": 0,
      "outputs": [
        {
          "output_type": "display_data",
          "data": {
            "image/png": "[encoded data removed]",
            "text/plain": [
              "<Figure size 1440x360 with 2 Axes>"
            ]
          },
          "metadata": {
            "tags": []
          }
        }
      ]
    },
    {
      "cell_type": "markdown",
      "metadata": {
        "id": "tBO_pRWk-OoD",
        "colab_type": "text"
      },
      "source": [
        "## 8*8"
      ]
    },
    {
      "cell_type": "code",
      "metadata": {
        "id": "kQKsKG8k-N_s",
        "colab_type": "code",
        "colab": {}
      },
      "source": [
        "env_id_8 =\"MiniGrid-Dynamic-Obstacles-8x8-v0\"\n",
        "env_8 = gym.make(env_id_8)\n",
        "\n",
        "# number of input channel, I am trying to parse that myself since the third party package has no env.observation_space.shape attributes,\n",
        "# which is used in the code provided by github\n",
        "channel_value = env_8.observation_space.spaces\n",
        "print(channel_value)\n",
        "input_shape, num_actions = env_8.observation_space.spaces['image'].shape, env_8.action_space.n\n",
        "input_shape=(input_shape[2],input_shape[0],input_shape[1])\n",
        "print(input_shape)\n",
        "model = CnnDQN(input_shape,num_actions)\n",
        "\n",
        "\n",
        "\n",
        "\n",
        "num_frames = 1400000\n",
        "batch_size = 32\n",
        "gamma      = 0.99\n",
        "\n",
        "losses = []\n",
        "all_rewards = []\n",
        "episode_reward = 0\n",
        "\n",
        "state = env_8.reset()['image']\n",
        "state = reshape(7,7,state)\n",
        "\n",
        "for frame_idx in range(1, num_frames + 1):\n",
        "\n",
        "    epsilon = epsilon_by_frame(frame_idx)\n",
        "    action = model.act(state, epsilon)\n",
        "\n",
        "    \n",
        "    next_state, reward, done, _ = env.step(action)\n",
        "\n",
        "    #parse the state\n",
        "    next_state = next_state['image']\n",
        "    next_state = reshape(7,7,next_state)\n",
        "\n",
        "    replay_buffer.push(state, action, reward, next_state, done)\n",
        "    \n",
        "    state = next_state\n",
        "    episode_reward += reward\n",
        "    if done:\n",
        "        state = env.reset()['image']\n",
        "        state = reshape(7,7,state)\n",
        "        all_rewards.append(episode_reward)\n",
        "        episode_reward = 0\n",
        "        \n",
        "    if len(replay_buffer) > replay_initial:\n",
        "        loss = compute_td_loss(batch_size)\n",
        "        losses.append(loss.data.item())\n",
        "        \n",
        "    if frame_idx % 10000 == 0:\n",
        "        print(frame_idx)\n",
        "        plot(frame_idx, all_rewards, losses)\n",
        "\n",
        "        #320000 is a good point though"
      ],
      "execution_count": 0,
      "outputs": []
    }
  ]
}